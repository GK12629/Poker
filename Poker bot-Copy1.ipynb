{
 "cells": [
  {
   "cell_type": "code",
   "execution_count": 1,
   "id": "e0d7d105",
   "metadata": {},
   "outputs": [],
   "source": [
    "import pandas as pd\n",
    "import warnings\n",
    "import random\n",
    "import math\n",
    "warnings.filterwarnings('ignore')"
   ]
  },
  {
   "cell_type": "code",
   "execution_count": 2,
   "id": "c46df164",
   "metadata": {},
   "outputs": [],
   "source": [
    "def has_straight(numbers):\n",
    "    sorted_numbers = sorted(numbers)\n",
    "    if sorted_numbers[-1] == 14:\n",
    "        if all(number in sorted_numbers for number in [10, 11, 12, 13]):\n",
    "            return 14\n",
    "        elif all(number in sorted_numbers for number in [2, 3, 4, 5]):\n",
    "            return 5\n",
    "    else:\n",
    "        for i in range(len(sorted_numbers) - 4):\n",
    "            if all(sorted_numbers[i + j + 1] == sorted_numbers[i + j] + 1 for j in range(4)):\n",
    "                return sorted_numbers[i + 4]\n",
    "    return 0\n",
    "\n",
    "\n",
    "def has_royal_flush(group):\n",
    "    required_ranks = {10, 11, 12, 13, 14}\n",
    "    return set(group['num']) == required_ranks and len(group['type'].unique()) == 1\n",
    "\n",
    "def has_straight_flush(group):\n",
    "    sorted_group = group.sort_values(by='num')\n",
    "    consecutive_count = 1\n",
    "    \n",
    "    for i in range(1, len(sorted_group)):\n",
    "        if sorted_group['num'].iloc[i] == sorted_group['num'].iloc[i - 1] + 1:\n",
    "            consecutive_count += 1\n",
    "            if consecutive_count >= 5:\n",
    "                return True\n",
    "        else:\n",
    "            consecutive_count = 1        \n",
    "    return False\n",
    "\n",
    "def current_hand (cards_df):\n",
    "    ref = cards_df['type'].iloc[0]\n",
    "    ref2 = cards_df['type'].iloc[1]\n",
    "    if len(cards_df[cards_df['type'] == ref]) >= 5:\n",
    "        same_type = True\n",
    "        z = 0\n",
    "    \n",
    "    elif len(cards_df[cards_df['type'] == ref2]) >= 5:\n",
    "        same_type = True\n",
    "        z = 1\n",
    "    \n",
    "    else: \n",
    "        same_type = False\n",
    "    \n",
    "    check1 = cards_df['num'][0]\n",
    "    check2 = cards_df['num'][1]\n",
    "    if len(cards_df[cards_df['num'] == check1]) >= len(cards_df[cards_df['num'] == check2]):\n",
    "        max_repeated = len(cards_df[cards_df['num'] == cards_df['num'][0]])\n",
    "        x = 1\n",
    "        y = 0\n",
    "    else:\n",
    "        max_repeated = len(cards_df[cards_df['num'] == check2])\n",
    "        x = 0\n",
    "        y = 1\n",
    "        \n",
    "    value_counts = cards_df['num'].value_counts()\n",
    "    \n",
    "    if cards_df['num'][0] != cards_df['num'][1]:\n",
    "        second_highest_repeated = len(cards_df[cards_df['num'] == cards_df['num'][x]])\n",
    "    else:\n",
    "        second_highest_repeated = 0\n",
    "        \n",
    "    royal_flush_exists = cards_df.groupby('type').apply(has_royal_flush).any()\n",
    "    second_check = cards_df[2:]\n",
    "    \n",
    "    if second_check.groupby('type').apply(has_royal_flush).any() == True:\n",
    "        royal_flush_exists = False\n",
    "    \n",
    "    straight_flush_exists = cards_df.groupby('type').apply(has_straight_flush).any()\n",
    "    \n",
    "    if royal_flush_exists == True:\n",
    "        score = 10\n",
    "    elif straight_flush_exists == True:\n",
    "        score = 9\n",
    "    elif max_repeated == 4:\n",
    "        score = 8\n",
    "        score += (cards_df['num'][y]/100)\n",
    "    elif max_repeated == 3 and second_highest_repeated == 2:\n",
    "        score = 7\n",
    "        score += (cards_df['num'][y]/100)\n",
    "    elif same_type >= 5:\n",
    "        score = 6\n",
    "        p = cards_df[cards_df['type'] == cards_df['type'][z]]\n",
    "        to_add = max(p['num'])\n",
    "        score += (to_add/100)\n",
    "    elif has_straight(cards_df['num']) > 0:\n",
    "        score = 5\n",
    "        score += (has_straight(cards_df['num'])/100)\n",
    "    elif max_repeated == 3:\n",
    "        score = 4\n",
    "        score += (cards_df['num'][y]/100)\n",
    "    elif max_repeated == 2 and second_highest_repeated == 2:\n",
    "        score = 3\n",
    "        to_add = max(cards_df['num'][0], cards_df['num'][1])\n",
    "        score += (to_add/100)\n",
    "    elif max_repeated == 2:\n",
    "        score = 2\n",
    "        score += (cards_df['num'][y]/100)\n",
    "    else:\n",
    "        score = 1\n",
    "        score += (cards_df[:2]['num'].max()/100)\n",
    "        \n",
    "    return round(score,2)"
   ]
  },
  {
   "cell_type": "code",
   "execution_count": 3,
   "id": "dc74ab95",
   "metadata": {},
   "outputs": [],
   "source": [
    "def final (cards_df):\n",
    "    ref = cards_df['type'].iloc[0]\n",
    "    same_type = cards_df['type'].value_counts().max()\n",
    "    max_repeated = cards_df['num'].value_counts().max()\n",
    "    value_counts = cards_df['num'].value_counts()\n",
    "    second_highest_repeated = value_counts.nlargest(2).iloc[-1]\n",
    "    royal_flush_exists = cards_df.groupby('type').apply(has_royal_flush).any()\n",
    "    straight_flush_exists = cards_df.groupby('type').apply(has_straight_flush).any()\n",
    "    \n",
    "    if royal_flush_exists == True:\n",
    "        return 'royal flush'\n",
    "    elif straight_flush_exists == True:\n",
    "        return 'straight flush'\n",
    "    elif max_repeated == 4:\n",
    "        return '4 of a kind'\n",
    "    elif max_repeated == 3 and second_highest_repeated == 2:\n",
    "        return 'full house'\n",
    "    elif same_type >= 5:\n",
    "        return 'flush'\n",
    "    elif has_straight(cards_df['num']) == True:\n",
    "        return 'straight'\n",
    "    elif max_repeated == 3:\n",
    "        return '3 of a kind'\n",
    "    elif max_repeated == 2 and second_highest_repeated == 2:\n",
    "        return '2 pair'\n",
    "    elif max_repeated == 2:\n",
    "        return 'pair'\n",
    "    else:\n",
    "        return 'high card'"
   ]
  },
  {
   "cell_type": "code",
   "execution_count": 4,
   "id": "4209c98d",
   "metadata": {
    "scrolled": true
   },
   "outputs": [],
   "source": [
    "suits = ['h', 'd', 'c', 's']\n",
    "ranks = [2,3,4,5,6,7,8,9,10,11,12,13,14]\n",
    "\n",
    "# Create a list to hold the card data\n",
    "cards = []\n",
    "\n",
    "# Generate all possible combinations of suits and ranks to create the cards\n",
    "for suit in suits:\n",
    "    for rank in ranks:\n",
    "        cards.append({'num': rank, 'type': suit})\n",
    "\n",
    "# Create a DataFrame from the cards list\n",
    "df = pd.DataFrame(cards)\n"
   ]
  },
  {
   "cell_type": "code",
   "execution_count": 5,
   "id": "d4e5431f",
   "metadata": {},
   "outputs": [],
   "source": [
    "def odds_percent(num_of_players, cards_df, df, cards_remaining):\n",
    "    num_of_sims = 3000\n",
    "    num_of_random_cards = num_of_players * 2 + cards_remaining \n",
    "    unknown_cards = len(df)\n",
    "    win_count = 0\n",
    "    for i in range(num_of_sims):\n",
    "        random_integers = random.sample(range(unknown_cards), num_of_random_cards)\n",
    "        community_cards = random_integers[-cards_remaining:]\n",
    "        best_score = 1\n",
    "        community_cards_df = df.loc[community_cards]\n",
    "        my_hand = cards_df.append(community_cards_df)\n",
    "        my_hand.reset_index(drop = True, inplace = True)\n",
    "        my_hand_rank = current_hand(my_hand)\n",
    "        pos = 0\n",
    "        \n",
    "        for x in range(num_of_players):\n",
    "            opponent_cards = random_integers[pos:pos+2]\n",
    "            pos += 2\n",
    "            selected_rows = df.loc[opponent_cards]\n",
    "            opponent_hand = selected_rows.append(community_cards_df)\n",
    "            opponent_hand = opponent_hand.append(cards_df.loc[2:])\n",
    "            opponent_hand.reset_index(drop = True, inplace = True)\n",
    "            opponent_hand_rank = current_hand(opponent_hand)\n",
    "            if opponent_hand_rank > best_score:\n",
    "                best_score = opponent_hand_rank\n",
    "                \n",
    "        if my_hand_rank > best_score:\n",
    "            win_count += 1\n",
    "            \n",
    "    return win_count/num_of_sims\n",
    "\n",
    "def odds_percent2(num_of_players, cards_df, df, cards_remaining):\n",
    "    num_of_sims = 3000\n",
    "    num_of_random_cards = num_of_players * 2  \n",
    "    unknown_cards = len(df)\n",
    "    win_count = 0\n",
    "    for i in range(num_of_sims):\n",
    "        random_integers = random.sample(range(unknown_cards), num_of_random_cards)\n",
    "        best_score = 1\n",
    "        my_hand = cards_df.append(community_cards_df)\n",
    "        my_hand.reset_index(drop = True, inplace = True)\n",
    "        my_hand_rank = current_hand(my_hand)\n",
    "        pos = 0\n",
    "        \n",
    "        for x in range(num_of_players):\n",
    "            opponent_cards = random_integers[pos:pos+2]\n",
    "            pos += 2\n",
    "            selected_rows = df.loc[opponent_cards]\n",
    "            opponent_hand = selected_rows.copy()\n",
    "            opponent_hand = opponent_hand.append(cards_df.loc[2:])\n",
    "            opponent_hand.reset_index(drop = True, inplace = True)\n",
    "            opponent_hand_rank = current_hand(opponent_hand)\n",
    "            if opponent_hand_rank > best_score:\n",
    "                best_score = opponent_hand_rank\n",
    "                \n",
    "        if my_hand_rank > best_score:\n",
    "            win_count += 1\n",
    "            \n",
    "    return win_count/num_of_sims\n",
    "\n",
    "def monte_carlo(num_of_players, cards_df, df, cards_remaining):\n",
    "    total = 0\n",
    "    num_of_sims = 100\n",
    "    for i in range(num_of_sims):\n",
    "        total += odds_percent(num_of_players, cards_df, df, cards_remaining)\n",
    "        \n",
    "    return total/num_of_sims\n",
    "\n"
   ]
  },
  {
   "cell_type": "markdown",
   "id": "21c0f7a1",
   "metadata": {},
   "source": [
    "Input your hand"
   ]
  },
  {
   "cell_type": "code",
   "execution_count": 6,
   "id": "4720a19c",
   "metadata": {},
   "outputs": [],
   "source": [
    "hand = [[14, 'h'], [14,'s']]"
   ]
  },
  {
   "cell_type": "code",
   "execution_count": 7,
   "id": "92b21591",
   "metadata": {},
   "outputs": [],
   "source": [
    "cards_df = pd.DataFrame(hand, columns=['num', 'type'])\n",
    "\n",
    "merged_df = pd.merge(df, cards_df, how='left', indicator=True)\n",
    "\n",
    "# Filter out rows that are common between the two dataframes\n",
    "df2 = merged_df[merged_df['_merge'] == 'left_only']\n",
    "\n",
    "# Drop the indicator column\n",
    "df2 = df2.drop(columns=['_merge'])\n",
    "\n",
    "df2.reset_index(drop = True, inplace = True)\n",
    "df2['num'] = df2['num'].astype(int)\n",
    "cards_remaining = 5"
   ]
  },
  {
   "cell_type": "markdown",
   "id": "d22fd10e",
   "metadata": {},
   "source": [
    "Calulcate opening hand odds of outright winning"
   ]
  },
  {
   "cell_type": "code",
   "execution_count": null,
   "id": "df3e34da",
   "metadata": {},
   "outputs": [],
   "source": [
    "num_of_opponents_remain = 2\n",
    "\n",
    "odds_percent(num_of_opponents_remain,cards_df,df2,cards_remaining)\n",
    "\n"
   ]
  },
  {
   "cell_type": "markdown",
   "id": "748e9916",
   "metadata": {},
   "source": [
    "Input flop"
   ]
  },
  {
   "cell_type": "code",
   "execution_count": null,
   "id": "23f98bdd",
   "metadata": {},
   "outputs": [],
   "source": [
    "flop = [[14,'c'], [3,'d'], [2, 'h']]"
   ]
  },
  {
   "cell_type": "code",
   "execution_count": null,
   "id": "99d02b30",
   "metadata": {},
   "outputs": [],
   "source": [
    "flop_df = pd.DataFrame(flop, columns=['num', 'type'])\n",
    "cards_df = cards_df.append(flop_df)\n",
    "cards_df.reset_index(drop = True, inplace = True)\n",
    "\n",
    "\n",
    "merged_df = pd.merge(df, cards_df, how='left', indicator=True)\n",
    "\n",
    "# Filter out rows that are common between the two dataframes\n",
    "df2 = merged_df[merged_df['_merge'] == 'left_only']\n",
    "\n",
    "# Drop the indicator column\n",
    "df2 = df2.drop(columns=['_merge'])\n",
    "\n",
    "df2.reset_index(drop = True, inplace = True)\n",
    "df2['num'] = df2['num'].astype(int)\n",
    "cards_remaining = 2"
   ]
  },
  {
   "cell_type": "markdown",
   "id": "639bc85a",
   "metadata": {},
   "source": [
    "Calulcate post flop odds of outright winning"
   ]
  },
  {
   "cell_type": "code",
   "execution_count": null,
   "id": "616bf1ac",
   "metadata": {
    "scrolled": true
   },
   "outputs": [],
   "source": [
    "num_of_opponents_remain = 5\n",
    "\n",
    "odds_percent(num_of_opponents_remain,cards_df,df2,cards_remaining)"
   ]
  },
  {
   "cell_type": "markdown",
   "id": "967769a4",
   "metadata": {},
   "source": [
    "Input turn"
   ]
  },
  {
   "cell_type": "code",
   "execution_count": null,
   "id": "9ba3f1f2",
   "metadata": {},
   "outputs": [],
   "source": [
    "turn = [11, 's']"
   ]
  },
  {
   "cell_type": "code",
   "execution_count": null,
   "id": "55e585c2",
   "metadata": {},
   "outputs": [],
   "source": [
    "cards_df.loc[len(cards_df)] = turn\n",
    "cards_df.reset_index(drop = True, inplace = True)\n",
    "\n",
    "\n",
    "merged_df = pd.merge(df, cards_df, how='left', indicator=True)\n",
    "\n",
    "# Filter out rows that are common between the two dataframes\n",
    "df2 = merged_df[merged_df['_merge'] == 'left_only']\n",
    "\n",
    "# Drop the indicator column\n",
    "df2 = df2.drop(columns=['_merge'])\n",
    "\n",
    "df2.reset_index(drop = True, inplace = True)\n",
    "df2['num'] = df2['num'].astype(int)\n",
    "cards_remaining = 1"
   ]
  },
  {
   "cell_type": "markdown",
   "id": "9c3fcc1a",
   "metadata": {},
   "source": [
    "Calulcate post turn odds of outright winning"
   ]
  },
  {
   "cell_type": "code",
   "execution_count": null,
   "id": "8712500b",
   "metadata": {},
   "outputs": [],
   "source": [
    "num_of_opponents_remain = 5\n",
    "\n",
    "odds_percent(num_of_opponents_remain,cards_df,df2,cards_remaining)"
   ]
  },
  {
   "cell_type": "markdown",
   "id": "8ea0ddf4",
   "metadata": {},
   "source": [
    "Input River"
   ]
  },
  {
   "cell_type": "code",
   "execution_count": null,
   "id": "46525b81",
   "metadata": {},
   "outputs": [],
   "source": [
    "river = [9, 'c']"
   ]
  },
  {
   "cell_type": "code",
   "execution_count": null,
   "id": "b6cd3c8c",
   "metadata": {},
   "outputs": [],
   "source": [
    "cards_df.loc[len(cards_df)] = river\n",
    "cards_df.reset_index(drop = True, inplace = True)\n",
    "\n",
    "\n",
    "merged_df = pd.merge(df, cards_df, how='left', indicator=True)\n",
    "\n",
    "# Filter out rows that are common between the two dataframes\n",
    "df2 = merged_df[merged_df['_merge'] == 'left_only']\n",
    "\n",
    "# Drop the indicator column\n",
    "df2 = df2.drop(columns=['_merge'])\n",
    "\n",
    "df2.reset_index(drop = True, inplace = True)\n",
    "df2['num'] = df2['num'].astype(int)\n",
    "cards_remaining = 0"
   ]
  },
  {
   "cell_type": "markdown",
   "id": "7ae069b5",
   "metadata": {},
   "source": [
    "Calulcate post river odds of outright winning"
   ]
  },
  {
   "cell_type": "code",
   "execution_count": null,
   "id": "95d6ad19",
   "metadata": {},
   "outputs": [],
   "source": [
    "num_of_opponents_remain = 5\n",
    "\n",
    "odds_percent2(num_of_opponents_remain,cards_df,df2,cards_remaining)"
   ]
  },
  {
   "cell_type": "code",
   "execution_count": null,
   "id": "80364321",
   "metadata": {
    "scrolled": true
   },
   "outputs": [],
   "source": [
    "final(cards_df)"
   ]
  },
  {
   "cell_type": "code",
   "execution_count": null,
   "id": "5caf36fd",
   "metadata": {},
   "outputs": [],
   "source": []
  }
 ],
 "metadata": {
  "kernelspec": {
   "display_name": "Python 3 (ipykernel)",
   "language": "python",
   "name": "python3"
  },
  "language_info": {
   "codemirror_mode": {
    "name": "ipython",
    "version": 3
   },
   "file_extension": ".py",
   "mimetype": "text/x-python",
   "name": "python",
   "nbconvert_exporter": "python",
   "pygments_lexer": "ipython3",
   "version": "3.9.13"
  }
 },
 "nbformat": 4,
 "nbformat_minor": 5
}
